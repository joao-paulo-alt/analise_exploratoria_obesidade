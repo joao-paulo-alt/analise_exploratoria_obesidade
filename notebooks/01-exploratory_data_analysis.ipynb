{
 "cells": [
  {
   "cell_type": "markdown",
   "metadata": {},
   "source": [
    "# Análise exploratória de dados"
   ]
  },
  {
   "cell_type": "code",
   "execution_count": null,
   "metadata": {},
   "outputs": [],
   "source": [
    "import pandas as pd"
   ]
  },
  {
   "cell_type": "code",
   "execution_count": null,
   "metadata": {},
   "outputs": [],
   "source": [
    "import pandas as pd\n",
    "import numpy as np\n",
    "import seaborn as sns\n",
    "import matplotlib.pyplot as plt"
   ]
  },
  {
   "cell_type": "code",
   "execution_count": null,
   "metadata": {},
   "outputs": [],
   "source": [
    "## Leitura do conjunto de dados \n",
    "df = pd.read_csv(\"../data/raw/ObesityDataSet_raw_and_data_sinthetic.csv\")\n",
    "df"
   ]
  },
  {
   "cell_type": "markdown",
   "metadata": {},
   "source": [
    "# Glosários de Termos Específicos\n",
    "\n",
    "* **Gênero**: Característica, Categórica, \"Gênero\"\n",
    "* **Idade**: Característica, Contínua, \"Idade\"\n",
    "* **Altura**: Característica, Contínua\n",
    "* **Peso**: Característica Contínua\n",
    "* **family_history_with_overweight**: Característica, Binário, \" Um membro da família sofreu ou sofre de excesso de peso? \"\n",
    "* **FAVC** : Característica, Binário, \" Você come alimentos altamente calóricos com frequência? \"\n",
    "* **FCVC**: Característica, Inteiro, \"Você costuma comer vegetais em suas refeições? \"\n",
    "* **NCP**: Característica, Contínuo, \"Quantas refeições principais você faz diariamente?\"\n",
    "* **CAEC**: Característica, Categórica, \"Você come algum alimento entre as refeições?\"\n",
    "* **FUMAÇA**: Característica, Binário, \"Você fuma? \"\n",
    "* **CH2O**: Característica, Contínua, \"Quanta água você bebe diariamente?\"\n",
    "* **SCC**: Recurso, Binário, \" Você monitora as calorias que você come diariamente? \"\n",
    "* **FAF**: Característica, Contínua, \" Com que frequência você faz atividade física? \"\n",
    "* **TER**: Característica, Inteiro, \"Quanto tempo você usa dispositivos tecnológicos como celular, videogames, televisão, computador e outros?\"\n",
    "* **CALC**: Característica, Categórica, \" Com que frequência você bebe álcool? \"\n",
    "* **MTRANS**: Característica, Categórica, \"Qual transporte você costuma usar? \"\n",
    "* **NObeyesdad**: Alvo, Categórico, \"Nível de obesidade\""
   ]
  },
  {
   "cell_type": "markdown",
   "metadata": {},
   "source": [
    "# 1. Descrição dos Dados"
   ]
  },
  {
   "cell_type": "markdown",
   "metadata": {},
   "source": [
    "<p align=\"center\">\n",
    "    \n",
    "![Imagem do projeto](https://static.india.com/wp-content/uploads/2023/03/Screenshot-2023-03-04-093256.jpg)"
   ]
  },
  {
   "cell_type": "markdown",
   "metadata": {},
   "source": [
    "* Este conjunto de dados reúne informações detalhadas para estimar os níveis de obesidade em indivíduos provenientes do México, Peru e Colômbia, com base em seus hábitos alimentares e características relacionadas à condição física. Ele é composto por 17 atributos e um total de 2.111 registros, oferecendo uma base robusta para análises.\n",
    "* Cada registro está associado à variável de classe NObesidade (Nível de Obesidade), que categoriza os indivíduos em sete níveis distintos: Peso Insuficiente, Peso Normal, Sobrepeso Nível I, Sobrepeso Nível II, Obesidade Tipo I, Obesidade Tipo II e Obesidade Tipo III. Esses dados são valiosos para estudos que envolvem padrões alimentares, saúde física e a relação entre estilo de vida e obesidade, permitindo análises e classificações mais aprofundadas."
   ]
  },
  {
   "cell_type": "markdown",
   "metadata": {},
   "source": [
    "# Dicionário de Dados "
   ]
  },
  {
   "cell_type": "code",
   "execution_count": null,
   "metadata": {},
   "outputs": [],
   "source": [
    "## Dicionário de Dados\n",
    "dictionary = '../data/external/dicionario.csv'\n",
    "dt_dict = pd.read_csv(dictionary)\n",
    "\n",
    "# Exibe dicionário\n",
    "dt_dict"
   ]
  },
  {
   "cell_type": "markdown",
   "metadata": {},
   "source": [
    "# Tratamento de Dados"
   ]
  },
  {
   "cell_type": "code",
   "execution_count": null,
   "metadata": {},
   "outputs": [],
   "source": [
    "# Imputar valores para variáveis numéricas (substituindo com a média)\n",
    "df['Age'] = df['Age'].fillna(df['Age'].mean())\n",
    "df['Height'] = df['Height'].fillna(df['Height'].mean())\n",
    "df['Weight'] = df['Weight'].fillna(df['Weight'].mean())\n",
    "df['CH2O'] = df['CH2O'].fillna(df['CH2O'].mean())\n",
    "\n",
    "# Imputar valores para variáveis qualitativas (nominais ou ordinais)\n",
    "df['Gender'] = df['Gender'].fillna(df['Gender'].mode()[0])\n",
    "df['family_history_with_overweight'] = df['family_history_with_overweight'].fillna(df['family_history_with_overweight'].mode()[0])\n",
    "df['SMOKE'] = df['SMOKE'].fillna(df['SMOKE'].mode()[0])\n",
    "df['FAF'] = df['FAF'].fillna(df['FAF'].mode()[0])\n",
    "df['TUE'] = df['TUE'].fillna(df['TUE'].mode()[0])\n",
    "df['CAEC'] = df['CAEC'].fillna(df['CAEC'].mode()[0])\n",
    "df['MTRANS'] = df['MTRANS'].fillna(df['MTRANS'].mode()[0])\n",
    "\n",
    "# Verificar se a imputação foi concluída com sucesso\n",
    "print(\"\\nValores faltantes por coluna após o tratamento:\")\n",
    "print(df.isnull().sum())\n"
   ]
  },
  {
   "cell_type": "code",
   "execution_count": null,
   "metadata": {},
   "outputs": [],
   "source": [
    "# Verificar a distribuição das variáveis numéricas depois da imputação\n",
    "print(df[['Age', 'Height', 'Weight', 'CH2O']].describe())\n",
    "\n",
    "# Verificar a distribuição das variáveis qualitativas após imputação\n",
    "print(df[['Gender', 'family_history_with_overweight', 'SMOKE', 'FAF', 'TUE', 'CAEC', 'MTRANS']].value_counts())"
   ]
  },
  {
   "cell_type": "markdown",
   "metadata": {},
   "source": [
    "* *A imputação de dados foi eficaz e permitiu uma análise contínua das variáveis com valores ausentes. A distribuição das variáveis não sofreu grandes distorções, e as análises iniciais indicam uma boa representação dos dados originais, com algumas concentrações nas categorias de gênero, histórico de sobrepeso e hábitos de fumo e atividade física.*"
   ]
  },
  {
   "cell_type": "code",
   "execution_count": null,
   "metadata": {
    "scrolled": true
   },
   "outputs": [],
   "source": [
    "# Visualizar variáveis categóricas antes e depois da imputação\n",
    "# 'Gender'\n",
    "\n",
    "plt.figure(figsize=(12, 6))\n",
    "\n",
    "# Antes da imputação\n",
    "plt.subplot(1, 2, 1)\n",
    "dados_antes.value_counts(dropna=False).plot.pie(\n",
    "    autopct='%1.1f%%', colors=['skyblue', 'lightgreen', 'lightcoral'], startangle=90)\n",
    "plt.title('Distribuição de Gênero Antes da Imputação')\n",
    "plt.ylabel('')  # Remove label desnecessário\n",
    "\n",
    "# Depois da imputação\n",
    "plt.subplot(1, 2, 2)\n",
    "df['Gender'].value_counts().plot.pie(\n",
    "    autopct='%1.1f%%', colors=['skyblue', 'lightgreen'], startangle=90)\n",
    "plt.title('Distribuição de Gênero Após Imputação')\n",
    "plt.ylabel('')\n",
    "\n",
    "plt.tight_layout()\n",
    "plt.show()"
   ]
  },
  {
   "cell_type": "markdown",
   "metadata": {},
   "source": [
    "* *Preenchimento de Lacunas: Ambos os gráficos mostram como a imputação foi bem-sucedida em preencher lacunas de dados, permitindo que o conjunto de dados seja utilizado de forma completa e sem prejuízos para análises subsequentes.*\n",
    "\n",
    "* *Simplicidade e Eficiência: As técnicas de imputação utilizadas (média para dados numéricos e moda para dados categóricos) foram simples, rápidas e eficazes para garantir a integridade do conjunto de dados.*"
   ]
  },
  {
   "cell_type": "markdown",
   "metadata": {},
   "source": [
    "# Resumo Estatístico Geral dos Dados"
   ]
  },
  {
   "cell_type": "code",
   "execution_count": null,
   "metadata": {},
   "outputs": [],
   "source": [
    "df.describe(include='all')"
   ]
  },
  {
   "cell_type": "markdown",
   "metadata": {},
   "source": [
    "1. **Idade (Age)**: A média de idade é 24,31 anos, com um desvio padrão de 6,35. Isso indica uma população relativamente jovem, com idades variando entre 14 e 61 anos, e com a maior parte dos dados próximos à faixa etária de 19 a 27 anos, dado o percentil 75 sendo 26 anos.\n",
    "2. **Gênero (Gender)**: A coluna \"Gender\" apresenta duas categorias: Masculino (1068 ocorrências) e Feminino. Como o gênero masculino é o mais frequente, isso pode indicar um viés de gênero na amostra.\n",
    "3. **Peso (Weight) e Altura (Height)**: A média de peso é 86,59 kg com um desvio padrão de 26,19, indicando uma grande variação de peso entre os indivíduos. A altura média é 1,70 m, com uma variação menor (desvio padrão de 0,09 m). A maior parte das pessoas tem uma altura entre 1,45 m e 1,98 m e peso entre 39 kg e 173 kg.\n",
    "4. **Frequência de Atividades Físicas (FAF)**: A variável FAF (atividade física) mostra que a maioria dos indivíduos pratica atividade física algumas vezes por semana (\"Sometimes\"), com 1726 ocorrências. Isso sugere que a atividade física não é uma prática diária para a maioria, mas sim algo esporádico.\n",
    "5. **Obesidade (NObeyesdad)**: A variável NObeyesdad, que representa os tipos de obesidade, mostra que a maioria dos indivíduos foi classificada como Obesidade Tipo I (351 ocorrências), o que indica que uma proporção significativa da amostra tem algum nível de obesidade. A classificação mais comum entre os tipos de obesidade na amostra é de grau leve a moderado."
   ]
  },
  {
   "cell_type": "markdown",
   "metadata": {},
   "source": [
    "# Tendencias Gerais"
   ]
  },
  {
   "cell_type": "code",
   "execution_count": null,
   "metadata": {},
   "outputs": [],
   "source": [
    "df['Weight_to_Height'] = df['Weight'] / df['Height']\n",
    "\n",
    "# Estatísticas descritivas por nível de obesidade\n",
    "weight_height_stats = df.groupby('NObeyesdad')['Weight_to_Height'].describe()\n",
    "print(weight_height_stats)"
   ]
  },
  {
   "cell_type": "markdown",
   "metadata": {},
   "source": [
    "1. **Peso Insuficiente**: O grupo com peso insuficiente tem uma média de 29.42 para a variável analisada (por exemplo, peso ou algum índice relacionado), com um desvio padrão de 2.05, indicando que os dados são relativamente homogêneos, sem grandes variações. A faixa de valores está entre 23.79 e 34.39, com a maioria dos dados concentrados entre 27.81 e 30.89.\n",
    "2. **Peso Normal**: Indivíduos com peso normal possuem uma média de 36.93, com uma maior dispersão (desvio padrão de 3.96) comparado ao grupo de peso insuficiente. A faixa de valores vai de 28.20 a 46.03, com a maior parte dos dados situando-se entre 33.88 e 40.00. A distribuição dos dados é mais ampla, refletindo maior variabilidade dentro desse grupo.\n",
    "3. **Obesidade Tipo I**: Este grupo apresenta uma média de 54.64, com uma dispersão de 3.79. A faixa de valores vai de 47.95 a 63.67, com os dados concentrados entre 51.24 e 57.91. Isso indica que, enquanto a média é mais alta que os grupos anteriores, a variação dentro do grupo ainda é moderada.\n",
    "4. **Obesidade Tipo II**: Os indivíduos com obesidade tipo II têm uma média de 65.02, com uma maior homogeneidade (desvio padrão de 2.44) em comparação com os grupos de obesidade menos severa. A faixa de valores se estende de 57.06 a 69.35, e os dados estão concentrados entre 63.57 e 67.16, refletindo uma distribuição relativamente mais estreita.\n",
    "5. **Obesidade Tipo III**: O grupo com obesidade extrema apresenta uma média de 71.45, com o maior desvio padrão de 6.57, indicando uma grande variabilidade. A faixa"
   ]
  },
  {
   "cell_type": "code",
   "execution_count": null,
   "metadata": {},
   "outputs": [],
   "source": [
    "# Definindo as cores e estilo do gráfico\n",
    "sns.set(style=\"whitegrid\")\n",
    "\n",
    "# Criação do boxplot\n",
    "plt.figure(figsize=(12, 8))\n",
    "\n",
    "# Boxplot de FAO por nível de obesidade\n",
    "sns.boxplot(data=df, x='NObeyesdad', y='FAF', hue='NObeyesdad', palette=\"Set2\", legend=False)\n",
    "\n",
    "# Título e labels\n",
    "plt.title(\"Distribuição do Nível de Atividade Física (FAF) por Nível de Obesidade\", fontsize=16)\n",
    "plt.xlabel(\"Nível de Obesidade\", fontsize=12)\n",
    "plt.ylabel(\"Nível de Atividade Física (FAF)\", fontsize=12)\n",
    "\n",
    "plt.show()"
   ]
  },
  {
   "cell_type": "markdown",
   "metadata": {},
   "source": [
    "1. **Insufficient_Weight**: apresenta uma mediana de atividade física relativamente baixa (cerca de 29), com a maior parte dos dados concentrados entre 27 e 31 no FAF.\n",
    "2. **Normal_Weight**: a mediana é de aproximadamente 37, indicando que pessoas com peso normal têm, em média, um nível de atividade física maior que aquelas com peso insuficiente. A distribuição é mais dispersa do que a do grupo anterior.\n",
    "3. **Obesity_Type_I a Obesity_Type_III**: a mediana aumenta progressivamente à medida que o nível de obesidade aumenta, com a maior variação observada nos grupos Obesity_Type_III, que apresenta uma mediana de cerca de 71 e uma dispersão considerável.\n",
    "4. **Overweight_Level_I e Overweight_Level_II**: esses grupos mostram um nível intermediário de atividade física, com medianas entre 43 e 48, respectivamente, sugerindo uma relação direta entre o aumento da obesidade e o declínio no nível de atividade física."
   ]
  },
  {
   "cell_type": "code",
   "execution_count": null,
   "metadata": {},
   "outputs": [],
   "source": [
    "# Matriz de correlação entre variáveis numéricas\n",
    "correlation_matrix = df[['Age', 'Height', 'Weight', 'FAF', 'CH2O']].corr()\n",
    "\n",
    "# Exibe a matriz de correlação\n",
    "correlation_matrix"
   ]
  },
  {
   "cell_type": "markdown",
   "metadata": {},
   "source": [
    "# Análise da Matriz de Correlação:\n",
    "\n",
    "1. **Idade e Altura**: A correlação é de **-0.025958**, o que indica uma relação muito fraca e praticamente inexistente entre a idade e a altura. Ou seja, a idade não parece ter uma relação direta com a altura.\n",
    "2. **Idade e Peso**: A correlação de **0.202560** sugere uma correlação positiva fraca entre idade e peso. Isso significa que, em média, conforme a idade aumenta, o peso tende a aumentar um pouco, mas a relação é fraca.\n",
    "3. **Idade e FAF (Frequência de Atividade Física)**: A correlação de -0.144938 é negativa fraca, indicando que, conforme a idade aumenta, a frequência de atividade física (FAF) tende a diminuir levemente, mas essa relação é bem fraca e não é muito significativa.\n",
    "4. **Idade e CH2O (Consumo de água)**: A correlação de **-0.045304** é praticamente nula e negativa, indicando que a idade tem uma relação quase inexistente com o consumo de água.\n",
    "5. **Altura e Peso**: A correlação de **0.463136** sugere uma correlação moderada positiva entre altura e peso. Isso faz sentido, pois, geralmente, pessoas mais altas tendem a pesar mais, mas a correlação não é extremamente forte, indicando que há outros fatores que influenciam o peso.\n",
    "6. **Altura e FAF**: A correlação de **0.294709** indica uma correlação fraca a moderada positiva entre altura e a frequência de atividade física. Isso pode indicar que, em algumas faixas de altura, as pessoas podem praticar mais atividade física, mas a relação não é muito forte.\n",
    "7. **Altura e CH2O**: A correlação de **0.213376** é uma correlação fraca positiva, sugerindo que pessoas mais altas tendem a consumir um pouco mais de água, embora a relação seja fraca.\n",
    "8. **Peso e FAF**: A correlação de **-0.051436** é negativa muito fraca, indicando que não há uma relação significativa entre peso e a frequência de atividade física (FAF).\n",
    "9. **Peso e CH2O**: A correlação de **0.200575** sugere uma correlação fraca positiva entre peso e o consumo de água. Indivíduos mais pesados tendem a consumir um pouco mais de água, mas a relação é fraca.\n",
    "10. **FAF e CH2O**: A correlação de **0.167236** é uma correlação fraca positiva, sugerindo que pessoas com maior frequência de atividade física podem consumir um pouco mais de água, embora a relação seja fraca.\n",
    "    \n",
    "# Conclusão:\n",
    "\n",
    "**Idade** tem pouca ou nenhuma relação com as outras variáveis, exceto um leve aumento no peso com a idade.\n",
    "**Altura e Peso** têm uma correlação moderada, o que é esperado. Pessoas mais altas tendem a pesar mais, mas existem outros fatores que influenciam o peso.\n",
    "**FAF e CH2O** têm correlações fracas com outras variáveis, sugerindo que fatores como a frequência de atividade física e o consumo de água podem ser influenciados por outros aspectos, não sendo fortemente relacionados a idade, altura ou peso."
   ]
  },
  {
   "cell_type": "markdown",
   "metadata": {},
   "source": [
    "## 2. Perguntas de partida e hipóteses"
   ]
  },
  {
   "cell_type": "code",
   "execution_count": null,
   "metadata": {},
   "outputs": [],
   "source": []
  },
  {
   "cell_type": "markdown",
   "metadata": {},
   "source": [
    "## 3. Insights"
   ]
  },
  {
   "cell_type": "code",
   "execution_count": null,
   "metadata": {},
   "outputs": [],
   "source": []
  }
 ],
 "metadata": {
  "kernelspec": {
   "display_name": "Python 3 (ipykernel)",
   "language": "python",
   "name": "python3"
  },
  "language_info": {
   "codemirror_mode": {
    "name": "ipython",
    "version": 3
   },
   "file_extension": ".py",
   "mimetype": "text/x-python",
   "name": "python",
   "nbconvert_exporter": "python",
   "pygments_lexer": "ipython3",
   "version": "3.10.11"
  },
  "vscode": {
   "interpreter": {
    "hash": "eb3c3305d8b111f0102f4f519c5f17abd113fe74db6752c355e994a9008815ef"
   }
  }
 },
 "nbformat": 4,
 "nbformat_minor": 4
}

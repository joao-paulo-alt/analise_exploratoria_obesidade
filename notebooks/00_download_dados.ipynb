{
 "cells": [
  {
   "cell_type": "code",
   "execution_count": 1,
   "id": "433b70a3-59ba-4bcf-a4d3-f7d208b3b45d",
   "metadata": {},
   "outputs": [],
   "source": [
    "import pandas as pd "
   ]
  },
  {
   "cell_type": "code",
   "execution_count": 2,
   "id": "a3b153dd-da79-4195-80ee-f2a60fd027f4",
   "metadata": {},
   "outputs": [],
   "source": [
    "df = pd.read_csv(\"../data/raw/ObesityDataSet_raw_and_data_sinthetic.csv\")\n",
    "df = df.to_csv('../data/raw/data.csv', index=False)"
   ]
  },
  {
   "cell_type": "code",
   "execution_count": 3,
   "id": "98a6a8ef-227d-4857-98df-db52e66124cd",
   "metadata": {},
   "outputs": [],
   "source": [
    "#criação do dicionario\n",
    "\n",
    "data_dictionary = pd.DataFrame([\n",
    "    {\n",
    "        'variavel': 'age',\n",
    "        'descrição': 'Idade do indivíduo',\n",
    "        'tipo': 'Quantitativa',\n",
    "        'subtipo': 'Discreta',\n",
    "    },\n",
    "    {\n",
    "        'variavel': 'gender',\n",
    "        'descrição': 'Sexo do indivíduo',\n",
    "        'tipo': 'Qualitativa',\n",
    "        'subtipo': 'Nominal',\n",
    "    },\n",
    "    {\n",
    "        'variavel': 'bmi',\n",
    "        'descrição': 'Índice de Massa Corporal',\n",
    "        'tipo': 'Quantitativa',\n",
    "        'subtipo': 'Contínua',\n",
    "    },\n",
    "    {\n",
    "        'variavel': 'physical_activity_level',\n",
    "        'descrição': 'Nível de atividade física',\n",
    "        'tipo': 'Qualitativa',\n",
    "        'subtipo': 'Ordinal',\n",
    "    },\n",
    "    {\n",
    "        'variavel': 'daily_calorie_intake',\n",
    "        'descrição': 'Ingestão diária de calorias (kcal)',\n",
    "        'tipo': 'Quantitativa',\n",
    "        'subtipo': 'Contínua',\n",
    "    },\n",
    "    {\n",
    "        'variavel': 'diet_type',\n",
    "        'descrição': 'Tipo de dieta seguida pelo indivíduo',\n",
    "        'tipo': 'Qualitativa',\n",
    "        'subtipo': 'Nominal',\n",
    "    },\n",
    "    {\n",
    "        'variavel': 'family_history_obesity',\n",
    "        'descrição': 'Histórico familiar de obesidade',\n",
    "        'tipo': 'Qualitativa',\n",
    "        'subtipo': 'Nominal',\n",
    "    },\n",
    "    {\n",
    "        'variavel': 'hypertension',\n",
    "        'descrição': 'Presença de hipertensão',\n",
    "        'tipo': 'Qualitativa',\n",
    "        'subtipo': 'Nominal',\n",
    "    },\n",
    "    {\n",
    "        'variavel': 'diabetes',\n",
    "        'descrição': 'Presença de diabetes',\n",
    "        'tipo': 'Qualitativa',\n",
    "        'subtipo': 'Nominal',\n",
    "    },\n",
    "    {\n",
    "        'variavel': 'stress_level',\n",
    "        'descrição': 'Nível de estresse do indivíduo',\n",
    "        'tipo': 'Qualitativa',\n",
    "        'subtipo': 'Ordinal',\n",
    "    },\n",
    "    {\n",
    "        'variavel': 'sleep_duration',\n",
    "        'descrição': 'Duração média do sono (horas por noite)',\n",
    "        'tipo': 'Quantitativa',\n",
    "        'subtipo': 'Contínua',\n",
    "    },\n",
    "    {\n",
    "        'variavel': 'obesity_level',\n",
    "        'descrição': 'Classificação do nível de obesidade',\n",
    "        'tipo': 'Qualitativa',\n",
    "        'subtipo': 'Ordinal',\n",
    "    },\n",
    "])"
   ]
  },
  {
   "cell_type": "code",
   "execution_count": 4,
   "id": "c0d98d37-9117-4176-881c-f332f6b14b2c",
   "metadata": {},
   "outputs": [],
   "source": [
    "#salvar\n",
    "data_dictionary.to_csv(\"../data/external/dicionario.csv\")"
   ]
  }
 ],
 "metadata": {
  "kernelspec": {
   "display_name": "Python 3 (ipykernel)",
   "language": "python",
   "name": "python3"
  },
  "language_info": {
   "codemirror_mode": {
    "name": "ipython",
    "version": 3
   },
   "file_extension": ".py",
   "mimetype": "text/x-python",
   "name": "python",
   "nbconvert_exporter": "python",
   "pygments_lexer": "ipython3",
   "version": "3.10.11"
  }
 },
 "nbformat": 4,
 "nbformat_minor": 5
}
